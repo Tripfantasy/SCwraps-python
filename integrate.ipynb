{
 "cells": [
  {
   "cell_type": "code",
   "execution_count": 54,
   "metadata": {},
   "outputs": [],
   "source": [
    "# Import chunk\n",
    "import pandas as pd\n",
    "import scanpy as sc\n",
    "import numpy as np\n",
    "import os \n",
    "import warnings"
   ]
  },
  {
   "cell_type": "code",
   "execution_count": 55,
   "metadata": {},
   "outputs": [],
   "source": [
    "# Settings chunk\n",
    "warnings.filterwarnings(\"ignore\")"
   ]
  },
  {
   "cell_type": "code",
   "execution_count": 123,
   "metadata": {},
   "outputs": [],
   "source": [
    "def integrate_h5(h5_directory:str, verbose:bool, cluster_res:float, n_pcs:int):\n",
    "    '''\n",
    "    Automatically integrates h5 files in designated directory and reads it into the current workspace as scanpy adata\n",
    "    '''\n",
    "\n",
    "    # Access h5 directory information\n",
    "    samples = [] \n",
    "    os.chdir(h5_directory)\n",
    "    if verbose: print(f'Changed working directory to {os.getcwd()}')\n",
    "    n_samples = len(os.listdir())\n",
    "    if verbose: print(f'Found {n_samples} sample(s). Appending paths to sample list.')\n",
    "    for file in os.listdir():\n",
    "        samples.append(os.path.realpath(file))\n",
    "\n",
    "    # Preprocess h5 samples \n",
    "    adata_dict = {}\n",
    "    for sample in samples:\n",
    "        name = os.path.basename(sample)\n",
    "        if verbose: print(f'Preprocessing sample: {name}')\n",
    "        adata = pp(sample,n_pcs=n_pcs,cluster_res=cluster_res)\n",
    "        adata_dict[name] = adata\n",
    "        adata_dict[name].obs['batch'] = name\n",
    "\n",
    "    # Find intersections between samples we start with the sample with the most clusters\n",
    "    if len(adata_dict.keys()) == 1:\n",
    "        adata = adata_dict[0]\n",
    "        return adata\n",
    "        if verbose: print(\"Single dataset processed.\")\n",
    "    else: #### THIS is where i'm automating the sliding intersection -> ingestion steps. complicated nested loop? -DM ####\n",
    "        if verbose: print(\"Converging datasets.\")\n",
    "        cluster_numbers = dict()\n",
    "        for adata in adata_dict.values():\n",
    "            name = adata.obs['batch'].unique()[0]\n",
    "            clusters = len(adata.obs['leiden'].unique())\n",
    "            cluster_numbers[name] = clusters\n",
    "        cluster_numbers = sorted(cluster_numbers.items(), key = lambda item: item[1], reverse = True)[:2]\n",
    "        init = 0\n",
    "        push = 2\n",
    "        top = cluster_numbers[init,push]\n",
    "        if verbose: print(f'Converging sample {top[1]} into {top[0]}')\n",
    "\n",
    "        \n",
    "        print(f'Samples with the most clusters: {top2}')\n",
    "\n",
    "\n",
    "        \n",
    "\n",
    "\n",
    "\n",
    "\n",
    "\n",
    "def pp(h5_path,n_pcs,cluster_res):\n",
    "    '''\n",
    "    Standard preprocessing, from https://github.com/mousepixels/sanbomics_scripts/blob/main/simple_scanpy_integration.ipynb\n",
    "    '''\n",
    "    adata = sc.read_10x_h5(h5_path)\n",
    "    adata.var_names_make_unique()\n",
    "    sc.pp.filter_cells(adata, min_genes=200) #get rid of cells with fewer than 200 genes\n",
    "    sc.pp.filter_genes(adata, min_cells=3) #get rid of genes that are found in fewer than 3 cells\n",
    "    adata.var['mt'] = adata.var_names.str.startswith('mt-')  # annotate the group of mitochondrial genes as 'mt'\n",
    "    sc.pp.calculate_qc_metrics(adata, qc_vars=['mt'], percent_top=None, log1p=False, inplace=True)\n",
    "    upper_lim = np.quantile(adata.obs.n_genes_by_counts.values, .98)\n",
    "    lower_lim = np.quantile(adata.obs.n_genes_by_counts.values, .02)\n",
    "    adata = adata[(adata.obs.n_genes_by_counts < upper_lim) & (adata.obs.n_genes_by_counts > lower_lim)]\n",
    "    adata = adata[adata.obs.pct_counts_mt < 20]\n",
    "    sc.pp.normalize_total(adata, target_sum=1e4) #normalize every cell to 10,000 UMI\n",
    "    sc.pp.log1p(adata) #change to log counts\n",
    "    sc.pp.highly_variable_genes(adata, min_mean=0.0125, max_mean=3, min_disp=0.5) #these are default values\n",
    "    adata.raw = adata #save raw data before processing values and further filtering\n",
    "    adata = adata[:, adata.var.highly_variable] #filter highly variable\n",
    "    sc.pp.regress_out(adata, ['total_counts', 'pct_counts_mt']) #Regress out effects of total counts per cell and the percentage of mitochondrial genes expressed\n",
    "    sc.pp.scale(adata, max_value=10) #scale each gene to unit variance\n",
    "    sc.tl.pca(adata, svd_solver='arpack')\n",
    "    sc.pp.neighbors(adata, n_neighbors=10, n_pcs= n_pcs)\n",
    "    sc.tl.leiden(adata, resolution = cluster_res)\n",
    "    sc.tl.umap(adata)\n",
    "    return adata\n",
    "\n",
    "    "
   ]
  },
  {
   "cell_type": "code",
   "execution_count": 124,
   "metadata": {},
   "outputs": [
    {
     "name": "stdout",
     "output_type": "stream",
     "text": [
      "Changed working directory to /home/dm2763/projects/scenic/pyscenic/OE_final/Filtered_mtx/MOLNG2407\n",
      "Found 4 sample(s). Appending paths to sample list.\n",
      "Preprocessing sample: L34687\n",
      "Preprocessing sample: L34688\n",
      "Preprocessing sample: L34689\n",
      "Preprocessing sample: L34690\n",
      "Converging datasets.\n",
      "Samples with the most clusters: [('L34687', 18), ('L34688', 17)]\n"
     ]
    }
   ],
   "source": [
    "integrate_h5('/home/dm2763/projects/scenic/pyscenic/OE_final/Filtered_mtx/MOLNG2407', cluster_res=0.5, n_pcs=50, verbose=True)"
   ]
  }
 ],
 "metadata": {
  "kernelspec": {
   "display_name": "Python 3",
   "language": "python",
   "name": "python3"
  },
  "language_info": {
   "codemirror_mode": {
    "name": "ipython",
    "version": 3
   },
   "file_extension": ".py",
   "mimetype": "text/x-python",
   "name": "python",
   "nbconvert_exporter": "python",
   "pygments_lexer": "ipython3",
   "version": "3.8.12"
  }
 },
 "nbformat": 4,
 "nbformat_minor": 2
}
